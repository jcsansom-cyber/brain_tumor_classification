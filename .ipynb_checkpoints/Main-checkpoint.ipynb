{
 "cells": [
  {
   "cell_type": "code",
   "execution_count": 15,
   "id": "ec1e83fd",
   "metadata": {},
   "outputs": [],
   "source": [
    "%matplotlib inline\n",
    "\n",
    "import numpy as np\n",
    "import matplotlib.pylab as plt\n",
    "from tensorflow import keras\n",
    "from tensorflow.keras.models import Sequential\n",
    "from tensorflow.keras.layers import Dense, Dropout, Flatten\n",
    "from tensorflow.keras.layers import Conv2D, MaxPooling2D\n",
    "from tensorflow.keras.datasets import mnist\n",
    "import time\n",
    "import urllib\n",
    "import os.path\n",
    "import sys\n",
    "import os\n",
    "from os import listdir\n",
    "from tensorflow.keras.utils import img_to_array, load_img\n",
    "from numpy import asarray\n",
    "from keras.preprocessing.image import ImageDataGenerator"
   ]
  },
  {
   "cell_type": "code",
   "execution_count": 12,
   "id": "49777edd",
   "metadata": {},
   "outputs": [
    {
     "ename": "KeyboardInterrupt",
     "evalue": "",
     "output_type": "error",
     "traceback": [
      "\u001b[0;31m---------------------------------------------------------------------------\u001b[0m",
      "\u001b[0;31mKeyboardInterrupt\u001b[0m                         Traceback (most recent call last)",
      "Input \u001b[0;32mIn [12]\u001b[0m, in \u001b[0;36m<cell line: 40>\u001b[0;34m()\u001b[0m\n\u001b[1;32m     38\u001b[0m         x_train\u001b[38;5;241m.\u001b[39mappend(asarray(load_img(os\u001b[38;5;241m.\u001b[39mpath\u001b[38;5;241m.\u001b[39mjoin(folder_dir, img)))\u001b[38;5;241m.\u001b[39mtolist())\n\u001b[1;32m     39\u001b[0m         y_train\u001b[38;5;241m.\u001b[39mappend(\u001b[38;5;241m3\u001b[39m)   \u001b[38;5;66;03m#3 = pituitary_tumor\u001b[39;00m\n\u001b[0;32m---> 40\u001b[0m \u001b[43mpreprocess\u001b[49m\u001b[43m(\u001b[49m\u001b[43m)\u001b[49m\n",
      "Input \u001b[0;32mIn [12]\u001b[0m, in \u001b[0;36mpreprocess\u001b[0;34m()\u001b[0m\n\u001b[1;32m     24\u001b[0m folder_dir \u001b[38;5;241m=\u001b[39m \u001b[38;5;124m\"\u001b[39m\u001b[38;5;124m/Users/jcsansom/Documents/562 final/image_to_prompt/archive/Training/glioma_tumor\u001b[39m\u001b[38;5;124m\"\u001b[39m\n\u001b[1;32m     25\u001b[0m \u001b[38;5;28;01mfor\u001b[39;00m img \u001b[38;5;129;01min\u001b[39;00m os\u001b[38;5;241m.\u001b[39mlistdir(folder_dir):\n\u001b[0;32m---> 26\u001b[0m     x_train\u001b[38;5;241m.\u001b[39mappend(\u001b[43masarray\u001b[49m\u001b[43m(\u001b[49m\u001b[43mload_img\u001b[49m\u001b[43m(\u001b[49m\u001b[43mos\u001b[49m\u001b[38;5;241;43m.\u001b[39;49m\u001b[43mpath\u001b[49m\u001b[38;5;241;43m.\u001b[39;49m\u001b[43mjoin\u001b[49m\u001b[43m(\u001b[49m\u001b[43mfolder_dir\u001b[49m\u001b[43m,\u001b[49m\u001b[43m \u001b[49m\u001b[43mimg\u001b[49m\u001b[43m)\u001b[49m\u001b[43m)\u001b[49m\u001b[43m)\u001b[49m\u001b[38;5;241;43m.\u001b[39;49m\u001b[43mtolist\u001b[49m\u001b[43m(\u001b[49m\u001b[43m)\u001b[49m)\n\u001b[1;32m     27\u001b[0m     y_train\u001b[38;5;241m.\u001b[39mappend(\u001b[38;5;241m0\u001b[39m)   \u001b[38;5;66;03m#0 = glioma tumor\u001b[39;00m\n\u001b[1;32m     28\u001b[0m folder_dir \u001b[38;5;241m=\u001b[39m \u001b[38;5;124m\"\u001b[39m\u001b[38;5;124m/Users/jcsansom/Documents/562 final/image_to_prompt/archive/Training/meningioma_tumor\u001b[39m\u001b[38;5;124m\"\u001b[39m\n",
      "\u001b[0;31mKeyboardInterrupt\u001b[0m: "
     ]
    }
   ],
   "source": [
    "#Data loading\n",
    "x_train = []\n",
    "y_train = []\n",
    "x_test = []\n",
    "y_test = []\n",
    "\n",
    "def preprocess():\n",
    "    folder_dir = \"/Users/jcsansom/Documents/562 final/image_to_prompt/archive/Testing/glioma_tumor\"\n",
    "    for img in os.listdir(folder_dir):\n",
    "        x_test.append(asarray(load_img(os.path.join(folder_dir, img))).tolist())\n",
    "        y_test.append(0)   #0 = glioma tumor\n",
    "    folder_dir = \"/Users/jcsansom/Documents/562 final/image_to_prompt/archive/Testing/meningioma_tumor\"\n",
    "    for img in os.listdir(folder_dir):\n",
    "        x_test.append(asarray(load_img(os.path.join(folder_dir, img))).tolist())\n",
    "        y_test.append(1)   #1 = meningioma tumor\n",
    "    folder_dir = \"/Users/jcsansom/Documents/562 final/image_to_prompt/archive/Testing/no_tumor\"\n",
    "    for img in os.listdir(folder_dir):\n",
    "        x_test.append(asarray(load_img(os.path.join(folder_dir, img))).tolist())\n",
    "        y_test.append(2)   #2 = no tumor\n",
    "    folder_dir = \"/Users/jcsansom/Documents/562 final/image_to_prompt/archive/Testing/pituitary_tumor\"\n",
    "    for img in os.listdir(folder_dir):\n",
    "        x_test.append(asarray(load_img(os.path.join(folder_dir, img))).tolist())\n",
    "        y_test.append(3)   #3 = pituitary_tumor\n",
    "    folder_dir = \"/Users/jcsansom/Documents/562 final/image_to_prompt/archive/Training/glioma_tumor\"\n",
    "    for img in os.listdir(folder_dir):\n",
    "        x_train.append(asarray(load_img(os.path.join(folder_dir, img))).tolist())\n",
    "        y_train.append(0)   #0 = glioma tumor\n",
    "    folder_dir = \"/Users/jcsansom/Documents/562 final/image_to_prompt/archive/Training/meningioma_tumor\"\n",
    "    for img in os.listdir(folder_dir):\n",
    "        x_train.append(asarray(load_img(os.path.join(folder_dir, img))).tolist())\n",
    "        y_train.append(1)   #1 = meningioma tumor\n",
    "    folder_dir = \"/Users/jcsansom/Documents/562 final/image_to_prompt/archive/Training/no_tumor\"\n",
    "    for img in os.listdir(folder_dir):\n",
    "        x_train.append(asarray(load_img(os.path.join(folder_dir, img))).tolist())\n",
    "        y_train.append(2)   #2 = no tumor\n",
    "    folder_dir = \"/Users/jcsansom/Documents/562 final/image_to_prompt/archive/Training/pituitary_tumor\"\n",
    "    for img in os.listdir(folder_dir):\n",
    "        x_train.append(asarray(load_img(os.path.join(folder_dir, img))).tolist())\n",
    "        y_train.append(3)   #3 = pituitary_tumor\n",
    "preprocess()\n"
   ]
  },
  {
   "cell_type": "code",
   "execution_count": null,
   "id": "295984d2",
   "metadata": {},
   "outputs": [],
   "source": [
    "datagen = ImageDataGenerator(rescale=1.0/255.0)\n",
    "train_it = datagen.flow_from_directory('/Users/jcsansom/Documents/562 final/image_to_prompt/archive/Training/',\n",
    " class_mode='categorical', batch_size=64, target_size=(512, 512))\n",
    "test_it = datagen.flow_from_directory('/Users/jcsansom/Documents/562 final/image_to_prompt/archive/Testing/',\n",
    " class_mode='categorical', batch_size=64, target_size=(512, 512))"
   ]
  },
  {
   "cell_type": "code",
   "execution_count": null,
   "id": "c2165a60",
   "metadata": {},
   "outputs": [],
   "source": [
    "input_shape = (512, 512, 1)\n",
    "num_classes = 4\n",
    "model = keras.Sequential(\n",
    "    [\n",
    "        keras.Input(shape=input_shape),\n",
    "        Conv2D(20, kernel_size=(5, 5), activation=\"relu\", strides=(1, 1), padding='valid'),\n",
    "        MaxPooling2D(pool_size=(2, 2), strides=2),\n",
    "        Conv2D(40, kernel_size=(5, 5), activation=\"relu\", strides=(1, 1), padding='valid'),\n",
    "        MaxPooling2D(pool_size=(2, 2), strides=2),\n",
    "        Flatten(),\n",
    "        Dropout(0.5),\n",
    "        Dense(1000, activation='relu'),\n",
    "        Dropout(0.5),\n",
    "        Dense(1000, activation='relu'),\n",
    "        Dense(num_classes, activation=\"softmax\"),\n",
    "    ]\n",
    ")\n",
    "\n",
    "model.compile(loss=\"categorical_crossentropy\", optimizer=\"adam\", metrics=[\"accuracy\"])\n",
    "\n",
    "model.fit_generator(train_it, steps_per_epoch=len(train_it), validation_data=test_it, validation_steps=len(test_it), epochs=20, verbose=0)\n",
    "model.summary()\n",
    "score = model.evaluate_generator(test_it, verbose=0)\n",
    "print(\"Test loss:\", score[0])\n",
    "print(\"Test accuracy:\", score[1])"
   ]
  },
  {
   "cell_type": "code",
   "execution_count": null,
   "id": "e07ccd05",
   "metadata": {},
   "outputs": [],
   "source": []
  }
 ],
 "metadata": {
  "kernelspec": {
   "display_name": "Python 3",
   "language": "python",
   "name": "python3"
  },
  "language_info": {
   "codemirror_mode": {
    "name": "ipython",
    "version": 3
   },
   "file_extension": ".py",
   "mimetype": "text/x-python",
   "name": "python",
   "nbconvert_exporter": "python",
   "pygments_lexer": "ipython3",
   "version": "3.9.12"
  }
 },
 "nbformat": 4,
 "nbformat_minor": 5
}
