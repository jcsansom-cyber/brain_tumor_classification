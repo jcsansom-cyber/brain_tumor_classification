{
 "cells": [
  {
   "cell_type": "code",
   "execution_count": 1,
   "id": "6b2a1291",
   "metadata": {},
   "outputs": [],
   "source": [
    "# Libraries used for Pre-processing\n",
    "import time\n",
    "import urllib\n",
    "import os.path\n",
    "import sys\n",
    "import os\n",
    "import numpy as np\n",
    "import matplotlib.pylab as plt\n",
    "from os import listdir\n",
    "import numpy as np\n",
    "from PIL import Image\n",
    "import matplotlib.pyplot as plt\n",
    "# Importing KNN and Confustion Matrix\n",
    "from sklearn.metrics import accuracy_score\n",
    "from sklearn.neighbors import KNeighborsClassifier\n",
    "from sklearn.metrics import ConfusionMatrixDisplay\n",
    "from sklearn.metrics import confusion_matrix"
   ]
  },
  {
   "cell_type": "code",
   "execution_count": 2,
   "id": "2c7a3f57",
   "metadata": {},
   "outputs": [],
   "source": [
    "# Path for processing Training Data\n",
    "path = os.path.join(os.getcwd(), \"archive_g\\Training\")\n",
    "images = []\n",
    "classifiers = []"
   ]
  },
  {
   "cell_type": "code",
   "execution_count": 3,
   "id": "cca7b977",
   "metadata": {},
   "outputs": [],
   "source": [
    "# Path for Glioma Tumor, Uncomment this if using Glioma\n",
    "# gliomaPath = os.path.join(path, 'glioma_tumor')\n",
    "# files = os.listdir(gliomaPath)\n",
    "# for file in files:\n",
    "#     try:\n",
    "#         with Image.open(gliomaPath + '\\\\' + file).convert('L') as image:\n",
    "#             image = image.resize((200, 200))\n",
    "#             images.append(np.asarray(image).flatten())\n",
    "#             image = image.rotate(90)\n",
    "#             images.append(np.asarray(image).flatten())\n",
    "#             image = image.rotate(90)\n",
    "#             images.append(np.asarray(image).flatten())\n",
    "#             image = image.rotate(90)\n",
    "#             images.append(np.asarray(image).flatten())\n",
    "#             classifiers.append(1)\n",
    "#             classifiers.append(1)\n",
    "#             classifiers.append(1)\n",
    "#             classifiers.append(1)\n",
    "#     except FileNotFoundException:\n",
    "#         print(file)\n",
    "#         break"
   ]
  },
  {
   "cell_type": "code",
   "execution_count": 4,
   "id": "b4b51e2c",
   "metadata": {},
   "outputs": [],
   "source": [
    "# Path for Meningioma, pre-processing the images for it\n",
    "meningPath = os.path.join(path, 'meningioma_tumor')\n",
    "files = os.listdir(meningPath)\n",
    "for file in files:\n",
    "    try:\n",
    "        with Image.open(meningPath + '\\\\' + file).convert('L') as image:\n",
    "            image = image.resize((200, 200))\n",
    "            images.append(np.asarray(image).flatten())\n",
    "            classifiers.append(2)\n",
    "    except FileNotFoundException:\n",
    "        print(file)\n",
    "        break"
   ]
  },
  {
   "cell_type": "code",
   "execution_count": 5,
   "id": "992efd65",
   "metadata": {},
   "outputs": [],
   "source": [
    "# Path for No Tumor, pre-processing the images for it\n",
    "noTumorPath = os.path.join(path, 'no_tumor')\n",
    "files = os.listdir(noTumorPath)\n",
    "for file in files:\n",
    "    try:\n",
    "        with Image.open(noTumorPath + '\\\\' + file).convert('L') as image:\n",
    "            image = image.resize((200, 200))\n",
    "            images.append(np.asarray(image).flatten())\n",
    "            classifiers.append(0)\n",
    "    except FileNotFoundException:\n",
    "        print(file)\n",
    "        break"
   ]
  },
  {
   "cell_type": "code",
   "execution_count": 6,
   "id": "e5ef4ed2",
   "metadata": {},
   "outputs": [],
   "source": [
    "# Path for Pituitary, pre-processing the images for it\n",
    "pituitaryPath = os.path.join(path, 'pituitary_tumor')\n",
    "files = os.listdir(pituitaryPath)\n",
    "for file in files:\n",
    "    try:\n",
    "        with Image.open(pituitaryPath + '\\\\' + file).convert('L') as image:\n",
    "            image = image.resize((200, 200))\n",
    "            images.append(np.asarray(image).flatten())\n",
    "            image = image.rotate(90)\n",
    "            images.append(np.asarray(image).flatten())\n",
    "            image = image.rotate(90)\n",
    "            images.append(np.asarray(image).flatten())\n",
    "            classifiers.append(3)\n",
    "            classifiers.append(3)\n",
    "            classifiers.append(3)\n",
    "    except FileNotFoundException:\n",
    "        print(file)\n",
    "        break"
   ]
  },
  {
   "cell_type": "code",
   "execution_count": 7,
   "id": "fe47435b",
   "metadata": {},
   "outputs": [],
   "source": [
    "# Path for testing the data\n",
    "path = os.path.join(os.getcwd(), \"archive_g\\Testing\")\n",
    "testImages = []\n",
    "testClassifiers = []"
   ]
  },
  {
   "cell_type": "code",
   "execution_count": 8,
   "id": "f597704f",
   "metadata": {},
   "outputs": [],
   "source": [
    "# Pre-processing images for testing meningioma\n",
    "meningPath = os.path.join(path, 'meningioma_tumor')\n",
    "files = os.listdir(meningPath)\n",
    "for file in files:\n",
    "    try:\n",
    "        with Image.open(meningPath + '\\\\' + file).convert('L') as image:\n",
    "            image = image.resize((200,200))\n",
    "            testImages.append(np.asarray(image).flatten())\n",
    "            testClassifiers.append(2)\n",
    "    except FileNotFoundException:\n",
    "        print(file)\n",
    "        break"
   ]
  },
  {
   "cell_type": "code",
   "execution_count": 9,
   "id": "b8461dea",
   "metadata": {},
   "outputs": [],
   "source": [
    "# Pre-processing images for testing no tumor\n",
    "noTumorPath = os.path.join(path, 'no_tumor')\n",
    "files = os.listdir(noTumorPath)\n",
    "for file in files:\n",
    "    try:\n",
    "        with Image.open(noTumorPath + '\\\\' + file).convert('L') as image:\n",
    "            image = image.resize((200,200))\n",
    "            testImages.append(np.asarray(image).flatten())\n",
    "            testClassifiers.append(0)\n",
    "    except FileNotFoundException:\n",
    "        print(file)\n",
    "        break"
   ]
  },
  {
   "cell_type": "code",
   "execution_count": 10,
   "id": "42d63944",
   "metadata": {},
   "outputs": [],
   "source": [
    "# Pre-processing images for testing pituitary\n",
    "pituitaryPath = os.path.join(path, 'pituitary_tumor')\n",
    "files = os.listdir(pituitaryPath)\n",
    "for file in files:\n",
    "    try:\n",
    "        with Image.open(pituitaryPath + '\\\\' + file).convert('L') as image:\n",
    "            image = image.resize((200,200))\n",
    "            testImages.append(np.asarray(image).flatten())\n",
    "            testClassifiers.append(3)\n",
    "    except FileNotFoundException:\n",
    "        print(file)\n",
    "        break\n",
    "\n",
    "# Pre-processing images for testing glioma, uncomment this is using glioma\n",
    "# gliomaPath = os.path.join(path, 'glioma_tumor')\n",
    "# files = os.listdir(gliomaPath)\n",
    "# for file in files:\n",
    "#     try:\n",
    "#         with Image.open(gliomaPath + '\\\\' + file).convert('L') as image:\n",
    "#             image = image.resize((200,200))\n",
    "#             testImages.append(np.asarray(image).flatten())\n",
    "#             testClassifiers.append(1)\n",
    "#     except FileNotFoundException:\n",
    "#         print(file)\n",
    "#         break"
   ]
  },
  {
   "cell_type": "code",
   "execution_count": 11,
   "id": "20837002",
   "metadata": {},
   "outputs": [],
   "source": [
    "# Initializing KNN with 3 neighbors\n",
    "knn=KNeighborsClassifier(n_neighbors=3)"
   ]
  },
  {
   "cell_type": "code",
   "execution_count": 12,
   "id": "d5e5fcb2",
   "metadata": {},
   "outputs": [
    {
     "data": {
      "text/plain": [
       "KNeighborsClassifier(n_neighbors=3)"
      ]
     },
     "execution_count": 12,
     "metadata": {},
     "output_type": "execute_result"
    }
   ],
   "source": [
    "# Fitting the images with the classifiers\n",
    "knn.fit(images, classifiers)"
   ]
  },
  {
   "cell_type": "code",
   "execution_count": 13,
   "id": "8aec5add",
   "metadata": {},
   "outputs": [],
   "source": [
    "# Prediciting the test images\n",
    "pred_knn=knn.predict(testImages)\n",
    "\n",
    "# print (pred_knn)\n",
    "# print (testClassifiers)"
   ]
  },
  {
   "cell_type": "code",
   "execution_count": 14,
   "id": "340cd635",
   "metadata": {},
   "outputs": [
    {
     "data": {
      "text/plain": [
       "0.7278911564625851"
      ]
     },
     "execution_count": 14,
     "metadata": {},
     "output_type": "execute_result"
    }
   ],
   "source": [
    "# Getting the accuracy score for the pred_knn and the test classifiers\n",
    "accuracy_score(pred_knn,testClassifiers)"
   ]
  },
  {
   "cell_type": "code",
   "execution_count": 15,
   "id": "812cf286",
   "metadata": {},
   "outputs": [
    {
     "data": {
      "image/png": "[encoded data removed]",
      "text/plain": [
       "<Figure size 432x288 with 2 Axes>"
      ]
     },
     "metadata": {
      "needs_background": "light"
     },
     "output_type": "display_data"
    }
   ],
   "source": [
    "# Making the confusion matrices\n",
    "cm = confusion_matrix(testClassifiers, pred_knn)\n",
    "#target_names = ['No Tumor', 'Glioma', 'Meningioma', 'Pituitary'] # Use this line if using Glioma\n",
    "target_names = ['No Tumor', 'Meningioma', 'Pituitary'] # Use this line if not using Glioma\n",
    "disp = ConfusionMatrixDisplay(confusion_matrix=cm, display_labels=target_names)\n",
    "disp.plot(cmap=plt.cm.Blues)\n",
    "plt.show()"
   ]
  }
 ],
 "metadata": {
  "kernelspec": {
   "display_name": "Python 3 (ipykernel)",
   "language": "python",
   "name": "python3"
  },
  "language_info": {
   "codemirror_mode": {
    "name": "ipython",
    "version": 3
   },
   "file_extension": ".py",
   "mimetype": "text/x-python",
   "name": "python",
   "nbconvert_exporter": "python",
   "pygments_lexer": "ipython3",
   "version": "3.9.12"
  }
 },
 "nbformat": 4,
 "nbformat_minor": 5
}
