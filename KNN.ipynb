{
 "cells": [
  {
   "cell_type": "code",
   "execution_count": 1,
   "id": "6b2a1291",
   "metadata": {},
   "outputs": [],
   "source": [
    "import time\n",
    "import urllib\n",
    "import os.path\n",
    "import sys\n",
    "import os\n",
    "import numpy as np\n",
    "import matplotlib.pylab as plt\n",
    "from os import listdir\n",
    "import numpy as np\n",
    "from PIL import Image\n",
    "import matplotlib.pyplot as plt\n",
    "#import K-Means\n",
    "from sklearn.cluster import KMeans\n",
    "# important metrics\n",
    "from sklearn.metrics import accuracy_score\n",
    "from sklearn.metrics import confusion_matrix\n",
    "from sklearn.neighbors import KNeighborsClassifier"
   ]
  },
  {
   "cell_type": "code",
   "execution_count": 2,
   "id": "2c7a3f57",
   "metadata": {},
   "outputs": [],
   "source": [
    "path = os.path.join(os.getcwd(), \"archive\\Training\")\n",
    "images = []\n",
    "classifiers = []"
   ]
  },
  {
   "cell_type": "code",
   "execution_count": 3,
   "id": "cca7b977",
   "metadata": {},
   "outputs": [],
   "source": [
    "gliomaPath = os.path.join(path, 'glioma_tumor')\n",
    "files = os.listdir(gliomaPath)\n",
    "for file in files:\n",
    "    try:\n",
    "        with Image.open(gliomaPath + '\\\\' + file).convert('L') as image:\n",
    "            image = image.resize((200, 200))\n",
    "            images.append(np.asarray(image).flatten())\n",
    "            image = image.rotate(90)\n",
    "            images.append(np.asarray(image).flatten())\n",
    "            image = image.rotate(90)\n",
    "            images.append(np.asarray(image).flatten())\n",
    "            image = image.rotate(90)\n",
    "            images.append(np.asarray(image).flatten())\n",
    "            classifiers.append(1)\n",
    "            classifiers.append(1)\n",
    "            classifiers.append(1)\n",
    "            classifiers.append(1)\n",
    "    except FileNotFoundException:\n",
    "        print(file)\n",
    "        break"
   ]
  },
  {
   "cell_type": "code",
   "execution_count": 4,
   "id": "b4b51e2c",
   "metadata": {},
   "outputs": [],
   "source": [
    "meningPath = os.path.join(path, 'meningioma_tumor')\n",
    "files = os.listdir(meningPath)\n",
    "for file in files:\n",
    "    try:\n",
    "        with Image.open(meningPath + '\\\\' + file).convert('L') as image:\n",
    "            image = image.resize((200, 200))\n",
    "            images.append(np.asarray(image).flatten())\n",
    "            classifiers.append(2)\n",
    "    except FileNotFoundException:\n",
    "        print(file)\n",
    "        break"
   ]
  },
  {
   "cell_type": "code",
   "execution_count": 5,
   "id": "992efd65",
   "metadata": {},
   "outputs": [],
   "source": [
    "noTumorPath = os.path.join(path, 'no_tumor')\n",
    "files = os.listdir(noTumorPath)\n",
    "for file in files:\n",
    "    try:\n",
    "        with Image.open(noTumorPath + '\\\\' + file).convert('L') as image:\n",
    "            image = image.resize((200, 200))\n",
    "            images.append(np.asarray(image).flatten())\n",
    "            classifiers.append(0)\n",
    "    except FileNotFoundException:\n",
    "        print(file)\n",
    "        break"
   ]
  },
  {
   "cell_type": "code",
   "execution_count": 6,
   "id": "e5ef4ed2",
   "metadata": {},
   "outputs": [],
   "source": [
    "pituitaryPath = os.path.join(path, 'pituitary_tumor')\n",
    "files = os.listdir(pituitaryPath)\n",
    "for file in files:\n",
    "    try:\n",
    "        with Image.open(pituitaryPath + '\\\\' + file).convert('L') as image:\n",
    "            image = image.resize((200, 200))\n",
    "            images.append(np.asarray(image).flatten())\n",
    "            image = image.rotate(90)\n",
    "            images.append(np.asarray(image).flatten())\n",
    "            image = image.rotate(90)\n",
    "            images.append(np.asarray(image).flatten())\n",
    "            classifiers.append(3)\n",
    "            classifiers.append(3)\n",
    "            classifiers.append(3)\n",
    "    except FileNotFoundException:\n",
    "        print(file)\n",
    "        break"
   ]
  },
  {
   "cell_type": "code",
   "execution_count": 7,
   "id": "fe47435b",
   "metadata": {},
   "outputs": [],
   "source": [
    "path = os.path.join(os.getcwd(), \"archive\\Testing\")\n",
    "testImages = []\n",
    "testClassifiers = []"
   ]
  },
  {
   "cell_type": "code",
   "execution_count": 8,
   "id": "f597704f",
   "metadata": {},
   "outputs": [],
   "source": [
    "meningPath = os.path.join(path, 'meningioma_tumor')\n",
    "files = os.listdir(meningPath)\n",
    "for file in files:\n",
    "    try:\n",
    "        with Image.open(meningPath + '\\\\' + file).convert('L') as image:\n",
    "            image = image.resize((200,200))\n",
    "            testImages.append(np.asarray(image).flatten())\n",
    "            testClassifiers.append(2)\n",
    "    except FileNotFoundException:\n",
    "        print(file)\n",
    "        break"
   ]
  },
  {
   "cell_type": "code",
   "execution_count": 9,
   "id": "b8461dea",
   "metadata": {},
   "outputs": [],
   "source": [
    "noTumorPath = os.path.join(path, 'no_tumor')\n",
    "files = os.listdir(noTumorPath)\n",
    "for file in files:\n",
    "    try:\n",
    "        with Image.open(noTumorPath + '\\\\' + file).convert('L') as image:\n",
    "            image = image.resize((200,200))\n",
    "            testImages.append(np.asarray(image).flatten())\n",
    "            testClassifiers.append(0)\n",
    "    except FileNotFoundException:\n",
    "        print(file)\n",
    "        break"
   ]
  },
  {
   "cell_type": "code",
   "execution_count": 10,
   "id": "42d63944",
   "metadata": {},
   "outputs": [],
   "source": [
    "pituitaryPath = os.path.join(path, 'pituitary_tumor')\n",
    "files = os.listdir(pituitaryPath)\n",
    "for file in files:\n",
    "    try:\n",
    "        with Image.open(pituitaryPath + '\\\\' + file).convert('L') as image:\n",
    "            image = image.resize((200,200))\n",
    "            testImages.append(np.asarray(image).flatten())\n",
    "            testClassifiers.append(3)\n",
    "    except FileNotFoundException:\n",
    "        print(file)\n",
    "        break"
   ]
  },
  {
   "cell_type": "code",
   "execution_count": 11,
   "id": "20837002",
   "metadata": {},
   "outputs": [],
   "source": [
    "knn=KNeighborsClassifier(n_neighbors=3)"
   ]
  },
  {
   "cell_type": "code",
   "execution_count": 12,
   "id": "d5e5fcb2",
   "metadata": {},
   "outputs": [
    {
     "data": {
      "text/plain": [
       "KNeighborsClassifier(n_neighbors=3)"
      ]
     },
     "execution_count": 12,
     "metadata": {},
     "output_type": "execute_result"
    }
   ],
   "source": [
    "knn.fit(images, classifiers)"
   ]
  },
  {
   "cell_type": "code",
   "execution_count": 13,
   "id": "8aec5add",
   "metadata": {},
   "outputs": [],
   "source": [
    "y_pred_knn=knn.predict(testImages)\n",
    "#y_pred_knn"
   ]
  },
  {
   "cell_type": "code",
   "execution_count": 14,
   "id": "340cd635",
   "metadata": {},
   "outputs": [
    {
     "data": {
      "text/plain": [
       "0.6836734693877551"
      ]
     },
     "execution_count": 14,
     "metadata": {},
     "output_type": "execute_result"
    }
   ],
   "source": [
    "accuracy_score(y_pred_knn,testClassifiers)"
   ]
  }
 ],
 "metadata": {
  "kernelspec": {
   "display_name": "Python 3 (ipykernel)",
   "language": "python",
   "name": "python3"
  },
  "language_info": {
   "codemirror_mode": {
    "name": "ipython",
    "version": 3
   },
   "file_extension": ".py",
   "mimetype": "text/x-python",
   "name": "python",
   "nbconvert_exporter": "python",
   "pygments_lexer": "ipython3",
   "version": "3.9.12"
  }
 },
 "nbformat": 4,
 "nbformat_minor": 5
}
