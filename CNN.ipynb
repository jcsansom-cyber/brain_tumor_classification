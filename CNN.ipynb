{
 "cells": [
  {
   "cell_type": "code",
   "execution_count": 4,
   "id": "ec1e83fd",
   "metadata": {},
   "outputs": [],
   "source": [
    "%matplotlib inline\n",
    "\n",
    "import numpy as np\n",
    "import matplotlib.pylab as plt\n",
    "from tensorflow import keras\n",
    "from tensorflow.keras.models import Sequential\n",
    "from tensorflow.keras.layers import Dense, Dropout, Flatten\n",
    "from tensorflow.keras.layers import Conv2D, MaxPooling2D\n",
    "from tensorflow.keras.datasets import mnist\n",
    "import time\n",
    "import urllib\n",
    "import os.path\n",
    "import sys\n",
    "import os\n",
    "from os import listdir\n",
    "from tensorflow.keras.utils import img_to_array, load_img\n",
    "from numpy import asarray\n",
    "from keras.preprocessing.image import ImageDataGenerator"
   ]
  },
  {
   "cell_type": "markdown",
   "id": "888018db",
   "metadata": {},
   "source": [
    "#Data loading\n",
    "x_train = []\n",
    "y_train = []\n",
    "x_test = []\n",
    "y_test = []\n",
    "\n",
    "def preprocess():\n",
    "    folder_dir = \"/Users/jcsansom/Documents/562 final/image_to_prompt/archive/Testing/glioma_tumor\"\n",
    "    for img in os.listdir(folder_dir):\n",
    "        x_test.append(asarray(load_img(os.path.join(folder_dir, img))).tolist())\n",
    "        y_test.append(0)   #0 = glioma tumor\n",
    "    folder_dir = \"/Users/jcsansom/Documents/562 final/image_to_prompt/archive/Testing/meningioma_tumor\"\n",
    "    for img in os.listdir(folder_dir):\n",
    "        x_test.append(asarray(load_img(os.path.join(folder_dir, img))).tolist())\n",
    "        y_test.append(1)   #1 = meningioma tumor\n",
    "    folder_dir = \"/Users/jcsansom/Documents/562 final/image_to_prompt/archive/Testing/no_tumor\"\n",
    "    for img in os.listdir(folder_dir):\n",
    "        x_test.append(asarray(load_img(os.path.join(folder_dir, img))).tolist())\n",
    "        y_test.append(2)   #2 = no tumor\n",
    "    folder_dir = \"/Users/jcsansom/Documents/562 final/image_to_prompt/archive/Testing/pituitary_tumor\"\n",
    "    for img in os.listdir(folder_dir):\n",
    "        x_test.append(asarray(load_img(os.path.join(folder_dir, img))).tolist())\n",
    "        y_test.append(3)   #3 = pituitary_tumor\n",
    "    folder_dir = \"/Users/jcsansom/Documents/562 final/image_to_prompt/archive/Training/glioma_tumor\"\n",
    "    for img in os.listdir(folder_dir):\n",
    "        x_train.append(asarray(load_img(os.path.join(folder_dir, img))).tolist())\n",
    "        y_train.append(0)   #0 = glioma tumor\n",
    "    folder_dir = \"/Users/jcsansom/Documents/562 final/image_to_prompt/archive/Training/meningioma_tumor\"\n",
    "    for img in os.listdir(folder_dir):\n",
    "        x_train.append(asarray(load_img(os.path.join(folder_dir, img))).tolist())\n",
    "        y_train.append(1)   #1 = meningioma tumor\n",
    "    folder_dir = \"/Users/jcsansom/Documents/562 final/image_to_prompt/archive/Training/no_tumor\"\n",
    "    for img in os.listdir(folder_dir):\n",
    "        x_train.append(asarray(load_img(os.path.join(folder_dir, img))).tolist())\n",
    "        y_train.append(2)   #2 = no tumor\n",
    "    folder_dir = \"/Users/jcsansom/Documents/562 final/image_to_prompt/archive/Training/pituitary_tumor\"\n",
    "    for img in os.listdir(folder_dir):\n",
    "        x_train.append(asarray(load_img(os.path.join(folder_dir, img))).tolist())\n",
    "        y_train.append(3)   #3 = pituitary_tumor\n",
    "preprocess()\n"
   ]
  },
  {
   "cell_type": "code",
   "execution_count": 10,
   "id": "295984d2",
   "metadata": {},
   "outputs": [
    {
     "name": "stdout",
     "output_type": "stream",
     "text": [
      "Found 2870 images belonging to 4 classes.\n",
      "Found 394 images belonging to 4 classes.\n"
     ]
    }
   ],
   "source": [
    "datagen = ImageDataGenerator(rescale=1.0/255.0)\n",
    "train_it = datagen.flow_from_directory('/Users/jcsansom/Documents/562 final/image_to_prompt/archive/Training/',\n",
    " class_mode='categorical', batch_size=10, target_size=(200, 200), color_mode=\"grayscale\")\n",
    "test_it = datagen.flow_from_directory('/Users/jcsansom/Documents/562 final/image_to_prompt/archive/Testing/',\n",
    " class_mode='categorical', batch_size=10, target_size=(200, 200), color_mode=\"grayscale\")"
   ]
  },
  {
   "cell_type": "code",
   "execution_count": 11,
   "id": "c2165a60",
   "metadata": {},
   "outputs": [],
   "source": [
    "\n",
    "model = keras.Sequential()\n",
    "model.add(Conv2D(32, (3, 3), activation='relu', kernel_initializer='he_uniform', padding='same', input_shape=(200, 200, 1)))\n",
    "model.add(MaxPooling2D(2, 2))\n",
    "model.add(Conv2D(64, (3, 3), activation='relu', kernel_initializer='he_uniform', padding='same'))\n",
    "model.add(MaxPooling2D(2, 2))\n",
    "model.add(Flatten())\n",
    "model.add(Dense(128, activation='relu', kernel_initializer='he_uniform'))\n",
    "model.add(Dense(4, activation='softmax'))\n",
    "\n",
    "model.compile(loss=\"categorical_crossentropy\", optimizer=\"adam\", metrics=[\"accuracy\"])\n",
    "\n"
   ]
  },
  {
   "cell_type": "code",
   "execution_count": 12,
   "id": "e07ccd05",
   "metadata": {},
   "outputs": [
    {
     "name": "stderr",
     "output_type": "stream",
     "text": [
      "/var/folders/rc/gp38btvd4t10gf8g1hgvk0s40000gn/T/ipykernel_7382/3048502482.py:1: UserWarning: `Model.fit_generator` is deprecated and will be removed in a future version. Please use `Model.fit`, which supports generators.\n",
      "  model.fit_generator(train_it, steps_per_epoch=len(train_it), validation_data=test_it, validation_steps=len(test_it), epochs=10, verbose=0)\n"
     ]
    },
    {
     "name": "stdout",
     "output_type": "stream",
     "text": [
      "Model: \"sequential_2\"\n",
      "_________________________________________________________________\n",
      " Layer (type)                Output Shape              Param #   \n",
      "=================================================================\n",
      " conv2d_4 (Conv2D)           (None, 200, 200, 32)      320       \n",
      "                                                                 \n",
      " max_pooling2d_4 (MaxPooling  (None, 100, 100, 32)     0         \n",
      " 2D)                                                             \n",
      "                                                                 \n",
      " conv2d_5 (Conv2D)           (None, 100, 100, 64)      18496     \n",
      "                                                                 \n",
      " max_pooling2d_5 (MaxPooling  (None, 50, 50, 64)       0         \n",
      " 2D)                                                             \n",
      "                                                                 \n",
      " flatten_2 (Flatten)         (None, 160000)            0         \n",
      "                                                                 \n",
      " dense_4 (Dense)             (None, 128)               20480128  \n",
      "                                                                 \n",
      " dense_5 (Dense)             (None, 4)                 516       \n",
      "                                                                 \n",
      "=================================================================\n",
      "Total params: 20,499,460\n",
      "Trainable params: 20,499,460\n",
      "Non-trainable params: 0\n",
      "_________________________________________________________________\n"
     ]
    },
    {
     "name": "stderr",
     "output_type": "stream",
     "text": [
      "/var/folders/rc/gp38btvd4t10gf8g1hgvk0s40000gn/T/ipykernel_7382/3048502482.py:3: UserWarning: `Model.evaluate_generator` is deprecated and will be removed in a future version. Please use `Model.evaluate`, which supports generators.\n",
      "  score = model.evaluate_generator(test_it, verbose=0)\n"
     ]
    },
    {
     "name": "stdout",
     "output_type": "stream",
     "text": [
      "Test loss: 6.920057773590088\n",
      "Test accuracy: 0.7411167621612549\n"
     ]
    }
   ],
   "source": [
    "model.fit_generator(train_it, steps_per_epoch=len(train_it), validation_data=test_it, validation_steps=len(test_it), epochs=10, verbose=0)\n",
    "model.summary()\n",
    "score = model.evaluate_generator(test_it, verbose=0)\n",
    "print(\"Test loss:\", score[0])\n",
    "print(\"Test accuracy:\", score[1])"
   ]
  },
  {
   "cell_type": "code",
   "execution_count": null,
   "id": "ee54edbd",
   "metadata": {},
   "outputs": [],
   "source": []
  }
 ],
 "metadata": {
  "kernelspec": {
   "display_name": "Python 3 (ipykernel)",
   "language": "python",
   "name": "python3"
  },
  "language_info": {
   "codemirror_mode": {
    "name": "ipython",
    "version": 3
   },
   "file_extension": ".py",
   "mimetype": "text/x-python",
   "name": "python",
   "nbconvert_exporter": "python",
   "pygments_lexer": "ipython3",
   "version": "3.9.12"
  }
 },
 "nbformat": 4,
 "nbformat_minor": 5
}
