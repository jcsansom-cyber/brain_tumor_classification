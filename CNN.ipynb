{
 "cells": [
  {
   "cell_type": "code",
   "execution_count": 1,
   "id": "ec1e83fd",
   "metadata": {},
   "outputs": [],
   "source": [
    "%matplotlib inline\n",
    "\n",
    "import numpy as np\n",
    "import matplotlib.pylab as plt\n",
    "from tensorflow import keras\n",
    "from tensorflow.keras.models import Sequential\n",
    "from tensorflow.keras.layers import Dense, Dropout, Flatten\n",
    "from tensorflow.keras.layers import Conv2D, MaxPooling2D, BatchNormalization\n",
    "from tensorflow.keras.datasets import mnist\n",
    "import time\n",
    "import urllib\n",
    "import os.path\n",
    "import sys\n",
    "import os\n",
    "from os import listdir\n",
    "from tensorflow.keras.utils import img_to_array, load_img\n",
    "from numpy import asarray\n",
    "from keras.preprocessing.image import ImageDataGenerator"
   ]
  },
  {
   "cell_type": "code",
   "execution_count": 15,
   "id": "295984d2",
   "metadata": {},
   "outputs": [
    {
     "name": "stdout",
     "output_type": "stream",
     "text": [
      "Found 2870 images belonging to 4 classes.\n",
      "Found 394 images belonging to 4 classes.\n"
     ]
    }
   ],
   "source": [
    "datagen = ImageDataGenerator(rescale=1.0/255.0)\n",
    "train_it2 = datagen.flow_from_directory('/Users/jcsansom/Documents/562 final/image_to_prompt/archive_g/Training/',\n",
    " class_mode='categorical', batch_size=10, target_size=(150, 150), color_mode=\"grayscale\")\n",
    "test_it2 = datagen.flow_from_directory('/Users/jcsansom/Documents/562 final/image_to_prompt/archive_g/Testing/',\n",
    " class_mode='categorical', batch_size=10, target_size=(150, 150), color_mode=\"grayscale\")"
   ]
  },
  {
   "cell_type": "code",
   "execution_count": 18,
   "id": "ee54edbd",
   "metadata": {},
   "outputs": [],
   "source": [
    "model2 = keras.Sequential()\n",
    "model2.add(Conv2D(32, (5, 5), activation='relu', kernel_initializer='he_uniform', padding='same', input_shape=(150, 150, 1)))\n",
    "model2.add(MaxPooling2D(2, 2))\n",
    "model2.add(BatchNormalization())\n",
    "model2.add(Conv2D(64, (3, 3), activation='relu', kernel_initializer='he_uniform', padding='same'))\n",
    "model2.add(Dropout(0.3))\n",
    "model2.add(MaxPooling2D(2, 2))\n",
    "model2.add(BatchNormalization())\n",
    "model2.add(Conv2D(32, (3, 3), activation='relu', kernel_initializer='he_uniform', padding='same'))\n",
    "model2.add(Conv2D(32, (3, 3), activation='relu', kernel_initializer='he_uniform', padding='same'))\n",
    "model2.add(Flatten())\n",
    "model2.add(Dense(128, activation='relu'))\n",
    "model2.add(Dense(64, activation='relu'))\n",
    "model2.add(Dense(4, activation='softmax'))\n",
    "\n",
    "model2.compile(loss=\"categorical_crossentropy\", optimizer=\"adam\", metrics=[\"accuracy\"])"
   ]
  },
  {
   "cell_type": "code",
   "execution_count": 19,
   "id": "c0b5e338",
   "metadata": {},
   "outputs": [
    {
     "name": "stdout",
     "output_type": "stream",
     "text": [
      "Epoch 1/10\n"
     ]
    },
    {
     "name": "stderr",
     "output_type": "stream",
     "text": [
      "/var/folders/rc/gp38btvd4t10gf8g1hgvk0s40000gn/T/ipykernel_37103/3648083685.py:1: UserWarning: `Model.fit_generator` is deprecated and will be removed in a future version. Please use `Model.fit`, which supports generators.\n",
      "  model2.fit_generator(train_it2, steps_per_epoch=len(train_it2), validation_data=test_it2, validation_steps=len(test_it), epochs=10, verbose=1)\n"
     ]
    },
    {
     "name": "stdout",
     "output_type": "stream",
     "text": [
      "287/287 [==============================] - 27s 94ms/step - loss: 0.8604 - accuracy: 0.6976 - val_loss: 1.6419 - val_accuracy: 0.4567\n",
      "Epoch 2/10\n",
      "287/287 [==============================] - 28s 98ms/step - loss: 0.3291 - accuracy: 0.8672 - val_loss: 1.5192 - val_accuracy: 0.6800\n",
      "Epoch 3/10\n",
      "287/287 [==============================] - 29s 101ms/step - loss: 0.1621 - accuracy: 0.9432 - val_loss: 2.1914 - val_accuracy: 0.7000\n",
      "Epoch 4/10\n",
      "287/287 [==============================] - 32s 111ms/step - loss: 0.1019 - accuracy: 0.9627 - val_loss: 1.8957 - val_accuracy: 0.7400\n",
      "Epoch 5/10\n",
      "287/287 [==============================] - 29s 101ms/step - loss: 0.0268 - accuracy: 0.9902 - val_loss: 3.1456 - val_accuracy: 0.7100\n",
      "Epoch 6/10\n",
      "287/287 [==============================] - 29s 100ms/step - loss: 0.1314 - accuracy: 0.9578 - val_loss: 3.6359 - val_accuracy: 0.7200\n",
      "Epoch 7/10\n",
      "287/287 [==============================] - 30s 103ms/step - loss: 0.0498 - accuracy: 0.9826 - val_loss: 2.8061 - val_accuracy: 0.7467\n",
      "Epoch 8/10\n",
      "287/287 [==============================] - 29s 101ms/step - loss: 0.0520 - accuracy: 0.9843 - val_loss: 4.8596 - val_accuracy: 0.6700\n",
      "Epoch 9/10\n",
      "287/287 [==============================] - 30s 104ms/step - loss: 0.0693 - accuracy: 0.9798 - val_loss: 4.0518 - val_accuracy: 0.6867\n",
      "Epoch 10/10\n",
      "287/287 [==============================] - 38s 131ms/step - loss: 0.0343 - accuracy: 0.9875 - val_loss: 3.3851 - val_accuracy: 0.7200\n",
      "Model: \"sequential_5\"\n",
      "_________________________________________________________________\n",
      " Layer (type)                Output Shape              Param #   \n",
      "=================================================================\n",
      " conv2d_20 (Conv2D)          (None, 150, 150, 32)      832       \n",
      "                                                                 \n",
      " max_pooling2d_10 (MaxPoolin  (None, 75, 75, 32)       0         \n",
      " g2D)                                                            \n",
      "                                                                 \n",
      " batch_normalization_10 (Bat  (None, 75, 75, 32)       128       \n",
      " chNormalization)                                                \n",
      "                                                                 \n",
      " conv2d_21 (Conv2D)          (None, 75, 75, 64)        18496     \n",
      "                                                                 \n",
      " dropout_5 (Dropout)         (None, 75, 75, 64)        0         \n",
      "                                                                 \n",
      " max_pooling2d_11 (MaxPoolin  (None, 37, 37, 64)       0         \n",
      " g2D)                                                            \n",
      "                                                                 \n",
      " batch_normalization_11 (Bat  (None, 37, 37, 64)       256       \n",
      " chNormalization)                                                \n",
      "                                                                 \n",
      " conv2d_22 (Conv2D)          (None, 37, 37, 32)        18464     \n",
      "                                                                 \n",
      " conv2d_23 (Conv2D)          (None, 37, 37, 32)        9248      \n",
      "                                                                 \n",
      " flatten_5 (Flatten)         (None, 43808)             0         \n",
      "                                                                 \n",
      " dense_15 (Dense)            (None, 128)               5607552   \n",
      "                                                                 \n",
      " dense_16 (Dense)            (None, 64)                8256      \n",
      "                                                                 \n",
      " dense_17 (Dense)            (None, 4)                 260       \n",
      "                                                                 \n",
      "=================================================================\n",
      "Total params: 5,663,492\n",
      "Trainable params: 5,663,300\n",
      "Non-trainable params: 192\n",
      "_________________________________________________________________\n",
      " 1/40 [..............................] - ETA: 3s - loss: 2.6076 - accuracy: 0.8000"
     ]
    },
    {
     "name": "stderr",
     "output_type": "stream",
     "text": [
      "/var/folders/rc/gp38btvd4t10gf8g1hgvk0s40000gn/T/ipykernel_37103/3648083685.py:4: UserWarning: `Model.evaluate_generator` is deprecated and will be removed in a future version. Please use `Model.evaluate`, which supports generators.\n",
      "  score = model2.evaluate_generator(test_it2, verbose=1)\n"
     ]
    },
    {
     "name": "stdout",
     "output_type": "stream",
     "text": [
      "40/40 [==============================] - 2s 44ms/step - loss: 3.1319 - accuracy: 0.7386\n",
      "Test loss: 3.1318962574005127\n",
      "Test accuracy: 0.7385786771774292\n"
     ]
    }
   ],
   "source": [
    "model2.fit_generator(train_it2, steps_per_epoch=len(train_it2), validation_data=test_it2, validation_steps=len(test_it), epochs=10, verbose=1)\n",
    "model2.summary()\n",
    "#model.save('/Users/jcsansom/Documents/562 final/image_to_prompt/')\n",
    "score = model2.evaluate_generator(test_it2, verbose=1)\n",
    "print(\"Test loss:\", score[0])\n",
    "print(\"Test accuracy:\", score[1])"
   ]
  },
  {
   "cell_type": "code",
   "execution_count": 20,
   "id": "2a26373d",
   "metadata": {},
   "outputs": [
    {
     "name": "stdout",
     "output_type": "stream",
     "text": [
      "Found 2044 images belonging to 3 classes.\n",
      "Found 294 images belonging to 3 classes.\n"
     ]
    }
   ],
   "source": [
    "datagen = ImageDataGenerator(rescale=1.0/255.0)\n",
    "train_it = datagen.flow_from_directory('/Users/jcsansom/Documents/562 final/image_to_prompt/archive/Training/',\n",
    " class_mode='categorical', batch_size=10, target_size=(150, 150), color_mode=\"grayscale\")\n",
    "test_it = datagen.flow_from_directory('/Users/jcsansom/Documents/562 final/image_to_prompt/archive/Testing/',\n",
    " class_mode='categorical', batch_size=10, target_size=(150, 150), color_mode=\"grayscale\")"
   ]
  },
  {
   "cell_type": "code",
   "execution_count": 21,
   "id": "2f82d02a",
   "metadata": {},
   "outputs": [],
   "source": [
    "model = keras.Sequential()\n",
    "model.add(Conv2D(32, (5, 5), activation='relu', kernel_initializer='he_uniform', padding='same', input_shape=(150, 150, 1)))\n",
    "model.add(MaxPooling2D(2, 2))\n",
    "model.add(BatchNormalization())\n",
    "model.add(Conv2D(64, (3, 3), activation='relu', kernel_initializer='he_uniform', padding='same'))\n",
    "model.add(Dropout(0.3))\n",
    "model.add(MaxPooling2D(2, 2))\n",
    "model.add(BatchNormalization())\n",
    "model.add(Conv2D(32, (3, 3), activation='relu', kernel_initializer='he_uniform', padding='same'))\n",
    "model.add(Conv2D(32, (3, 3), activation='relu', kernel_initializer='he_uniform', padding='same'))\n",
    "model.add(Flatten())\n",
    "model.add(Dense(128, activation='relu'))\n",
    "model.add(Dense(64, activation='relu'))\n",
    "model.add(Dense(3, activation='softmax'))\n",
    "\n",
    "model.compile(loss=\"categorical_crossentropy\", optimizer=\"adam\", metrics=[\"accuracy\"])"
   ]
  },
  {
   "cell_type": "code",
   "execution_count": 23,
   "id": "cc34075e",
   "metadata": {},
   "outputs": [
    {
     "name": "stdout",
     "output_type": "stream",
     "text": [
      "Epoch 1/10\n"
     ]
    },
    {
     "name": "stderr",
     "output_type": "stream",
     "text": [
      "/var/folders/rc/gp38btvd4t10gf8g1hgvk0s40000gn/T/ipykernel_37103/2347890943.py:1: UserWarning: `Model.fit_generator` is deprecated and will be removed in a future version. Please use `Model.fit`, which supports generators.\n",
      "  model.fit_generator(train_it, steps_per_epoch=len(train_it), validation_data=test_it, validation_steps=len(test_it), epochs=10, verbose=1)\n"
     ]
    },
    {
     "name": "stdout",
     "output_type": "stream",
     "text": [
      "205/205 [==============================] - 22s 109ms/step - loss: 0.0272 - accuracy: 0.9946 - val_loss: 0.5052 - val_accuracy: 0.9014\n",
      "Epoch 2/10\n",
      "205/205 [==============================] - 24s 116ms/step - loss: 0.0485 - accuracy: 0.9853 - val_loss: 0.6600 - val_accuracy: 0.9014\n",
      "Epoch 3/10\n",
      "205/205 [==============================] - 24s 115ms/step - loss: 0.0667 - accuracy: 0.9814 - val_loss: 0.2987 - val_accuracy: 0.9218\n",
      "Epoch 4/10\n",
      "205/205 [==============================] - 24s 117ms/step - loss: 0.0523 - accuracy: 0.9878 - val_loss: 0.3450 - val_accuracy: 0.9218\n",
      "Epoch 5/10\n",
      "205/205 [==============================] - 23s 111ms/step - loss: 0.0248 - accuracy: 0.9927 - val_loss: 0.3120 - val_accuracy: 0.9150\n",
      "Epoch 6/10\n",
      "205/205 [==============================] - 23s 113ms/step - loss: 0.0409 - accuracy: 0.9917 - val_loss: 0.5088 - val_accuracy: 0.8776\n",
      "Epoch 7/10\n",
      "205/205 [==============================] - 24s 117ms/step - loss: 0.0243 - accuracy: 0.9927 - val_loss: 0.5793 - val_accuracy: 0.9320\n",
      "Epoch 8/10\n",
      "205/205 [==============================] - 24s 117ms/step - loss: 0.0253 - accuracy: 0.9941 - val_loss: 0.4564 - val_accuracy: 0.9286\n",
      "Epoch 9/10\n",
      "205/205 [==============================] - 24s 119ms/step - loss: 0.0225 - accuracy: 0.9936 - val_loss: 0.1403 - val_accuracy: 0.9592\n",
      "Epoch 10/10\n",
      "205/205 [==============================] - 23s 114ms/step - loss: 0.0081 - accuracy: 0.9966 - val_loss: 0.0917 - val_accuracy: 0.9830\n",
      "Model: \"sequential_6\"\n",
      "_________________________________________________________________\n",
      " Layer (type)                Output Shape              Param #   \n",
      "=================================================================\n",
      " conv2d_24 (Conv2D)          (None, 150, 150, 32)      832       \n",
      "                                                                 \n",
      " max_pooling2d_12 (MaxPoolin  (None, 75, 75, 32)       0         \n",
      " g2D)                                                            \n",
      "                                                                 \n",
      " batch_normalization_12 (Bat  (None, 75, 75, 32)       128       \n",
      " chNormalization)                                                \n",
      "                                                                 \n",
      " conv2d_25 (Conv2D)          (None, 75, 75, 64)        18496     \n",
      "                                                                 \n",
      " dropout_6 (Dropout)         (None, 75, 75, 64)        0         \n",
      "                                                                 \n",
      " max_pooling2d_13 (MaxPoolin  (None, 37, 37, 64)       0         \n",
      " g2D)                                                            \n",
      "                                                                 \n",
      " batch_normalization_13 (Bat  (None, 37, 37, 64)       256       \n",
      " chNormalization)                                                \n",
      "                                                                 \n",
      " conv2d_26 (Conv2D)          (None, 37, 37, 32)        18464     \n",
      "                                                                 \n",
      " conv2d_27 (Conv2D)          (None, 37, 37, 32)        9248      \n",
      "                                                                 \n",
      " flatten_6 (Flatten)         (None, 43808)             0         \n",
      "                                                                 \n",
      " dense_18 (Dense)            (None, 128)               5607552   \n",
      "                                                                 \n",
      " dense_19 (Dense)            (None, 64)                8256      \n",
      "                                                                 \n",
      " dense_20 (Dense)            (None, 3)                 195       \n",
      "                                                                 \n",
      "=================================================================\n",
      "Total params: 5,663,427\n",
      "Trainable params: 5,663,235\n",
      "Non-trainable params: 192\n",
      "_________________________________________________________________\n",
      " 3/30 [==>...........................] - ETA: 1s - loss: 0.0947 - accuracy: 0.9667"
     ]
    },
    {
     "name": "stderr",
     "output_type": "stream",
     "text": [
      "/var/folders/rc/gp38btvd4t10gf8g1hgvk0s40000gn/T/ipykernel_37103/2347890943.py:4: UserWarning: `Model.evaluate_generator` is deprecated and will be removed in a future version. Please use `Model.evaluate`, which supports generators.\n",
      "  score = model.evaluate_generator(test_it, verbose=1)\n"
     ]
    },
    {
     "name": "stdout",
     "output_type": "stream",
     "text": [
      "30/30 [==============================] - 1s 34ms/step - loss: 0.0917 - accuracy: 0.9830\n",
      "Test loss: 0.09174088388681412\n",
      "Test accuracy: 0.9829931855201721\n"
     ]
    }
   ],
   "source": [
    "model.fit_generator(train_it, steps_per_epoch=len(train_it), validation_data=test_it, validation_steps=len(test_it), epochs=10, verbose=1)\n",
    "model.summary()\n",
    "#model.save('/Users/jcsansom/Documents/562 final/image_to_prompt/')\n",
    "score = model.evaluate_generator(test_it, verbose=1)\n",
    "print(\"Test loss:\", score[0])\n",
    "print(\"Test accuracy:\", score[1])"
   ]
  },
  {
   "cell_type": "code",
   "execution_count": null,
   "id": "9f776f1d",
   "metadata": {},
   "outputs": [],
   "source": []
  }
 ],
 "metadata": {
  "kernelspec": {
   "display_name": "Python 3 (ipykernel)",
   "language": "python",
   "name": "python3"
  },
  "language_info": {
   "codemirror_mode": {
    "name": "ipython",
    "version": 3
   },
   "file_extension": ".py",
   "mimetype": "text/x-python",
   "name": "python",
   "nbconvert_exporter": "python",
   "pygments_lexer": "ipython3",
   "version": "3.9.12"
  }
 },
 "nbformat": 4,
 "nbformat_minor": 5
}
