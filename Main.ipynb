{
 "cells": [
  {
   "cell_type": "code",
   "execution_count": 6,
   "id": "ec1e83fd",
   "metadata": {},
   "outputs": [],
   "source": [
    "%matplotlib inline\n",
    "\n",
    "import numpy as np\n",
    "import matplotlib.pylab as plt\n",
    "from tensorflow import keras\n",
    "from tensorflow.keras.models import Sequential\n",
    "from tensorflow.keras.layers import Dense, Dropout, Flatten\n",
    "from tensorflow.keras.layers import Conv2D, MaxPooling2D\n",
    "from tensorflow.keras.datasets import mnist\n",
    "import time\n",
    "import urllib\n",
    "import os.path\n",
    "import sys\n"
   ]
  },
  {
   "cell_type": "code",
   "execution_count": 21,
   "id": "49777edd",
   "metadata": {},
   "outputs": [
    {
     "name": "stdout",
     "output_type": "stream",
     "text": [
      "{'file_name': 'chatgpt_0330_00000027.jpg', 'orig_text': 'An elegant ballroom scene with sophisticated flamingos dancing to the tune of a grand orchestra, while patrons indulge in a lavish feast.'}\n"
     ]
    }
   ],
   "source": [
    "#Data loading\n",
    "import json\n",
    "__location__ = os.path.realpath(os.path.join(os.getcwd(), os.path.sys.argv[0]))\n",
    "with open('metadata.jsonl') as f:\n",
    "    data = [json.loads(line) for line in f]\n",
    "\n",
    "print(data[10])"
   ]
  },
  {
   "cell_type": "code",
   "execution_count": 28,
   "id": "c2165a60",
   "metadata": {},
   "outputs": [
    {
     "name": "stdout",
     "output_type": "stream",
     "text": [
      "{'file_name': 'chatgpt_0330_00036642.jpg', 'orig_text': 'A whimsical tea party attended by a rabbit in a suit, a mouse in a tutu, and a frog playing a banjo.'}\n"
     ]
    }
   ],
   "source": [
    "#Splitting into test and train\n",
    "\n",
    "train_data = [data[i] for i in range(0, 20000)]\n",
    "test_data = [data[i] for i in range(20001, 25695)]\n"
   ]
  },
  {
   "cell_type": "code",
   "execution_count": null,
   "id": "e07ccd05",
   "metadata": {},
   "outputs": [],
   "source": []
  }
 ],
 "metadata": {
  "kernelspec": {
   "display_name": "Python 3",
   "language": "python",
   "name": "python3"
  },
  "language_info": {
   "codemirror_mode": {
    "name": "ipython",
    "version": 3
   },
   "file_extension": ".py",
   "mimetype": "text/x-python",
   "name": "python",
   "nbconvert_exporter": "python",
   "pygments_lexer": "ipython3",
   "version": "3.9.12"
  }
 },
 "nbformat": 4,
 "nbformat_minor": 5
}
