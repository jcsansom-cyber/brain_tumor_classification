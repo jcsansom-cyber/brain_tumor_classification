{
 "cells": [
  {
   "cell_type": "code",
   "execution_count": 1,
   "id": "ec1e83fd",
   "metadata": {},
   "outputs": [],
   "source": [
    "%matplotlib inline\n",
    "\n",
    "import numpy as np\n",
    "import matplotlib.pylab as plt\n",
    "from tensorflow import keras\n",
    "from tensorflow.keras.models import Sequential\n",
    "from tensorflow.keras.layers import Dense, Dropout, Flatten\n",
    "from tensorflow.keras.layers import Conv2D, MaxPooling2D\n",
    "from tensorflow.keras.datasets import mnist\n",
    "import time\n",
    "import urllib\n",
    "import os.path\n",
    "import sys\n",
    "import os\n",
    "from os import listdir\n",
    "from tensorflow.keras.utils import img_to_array, load_img\n",
    "from numpy import asarray\n",
    "from keras.preprocessing.image import ImageDataGenerator"
   ]
  },
  {
   "cell_type": "markdown",
   "id": "888018db",
   "metadata": {},
   "source": [
    "#Data loading\n",
    "x_train = []\n",
    "y_train = []\n",
    "x_test = []\n",
    "y_test = []\n",
    "\n",
    "def preprocess():\n",
    "    folder_dir = \"/Users/jcsansom/Documents/562 final/image_to_prompt/archive/Testing/glioma_tumor\"\n",
    "    for img in os.listdir(folder_dir):\n",
    "        x_test.append(asarray(load_img(os.path.join(folder_dir, img))).tolist())\n",
    "        y_test.append(0)   #0 = glioma tumor\n",
    "    folder_dir = \"/Users/jcsansom/Documents/562 final/image_to_prompt/archive/Testing/meningioma_tumor\"\n",
    "    for img in os.listdir(folder_dir):\n",
    "        x_test.append(asarray(load_img(os.path.join(folder_dir, img))).tolist())\n",
    "        y_test.append(1)   #1 = meningioma tumor\n",
    "    folder_dir = \"/Users/jcsansom/Documents/562 final/image_to_prompt/archive/Testing/no_tumor\"\n",
    "    for img in os.listdir(folder_dir):\n",
    "        x_test.append(asarray(load_img(os.path.join(folder_dir, img))).tolist())\n",
    "        y_test.append(2)   #2 = no tumor\n",
    "    folder_dir = \"/Users/jcsansom/Documents/562 final/image_to_prompt/archive/Testing/pituitary_tumor\"\n",
    "    for img in os.listdir(folder_dir):\n",
    "        x_test.append(asarray(load_img(os.path.join(folder_dir, img))).tolist())\n",
    "        y_test.append(3)   #3 = pituitary_tumor\n",
    "    folder_dir = \"/Users/jcsansom/Documents/562 final/image_to_prompt/archive/Training/glioma_tumor\"\n",
    "    for img in os.listdir(folder_dir):\n",
    "        x_train.append(asarray(load_img(os.path.join(folder_dir, img))).tolist())\n",
    "        y_train.append(0)   #0 = glioma tumor\n",
    "    folder_dir = \"/Users/jcsansom/Documents/562 final/image_to_prompt/archive/Training/meningioma_tumor\"\n",
    "    for img in os.listdir(folder_dir):\n",
    "        x_train.append(asarray(load_img(os.path.join(folder_dir, img))).tolist())\n",
    "        y_train.append(1)   #1 = meningioma tumor\n",
    "    folder_dir = \"/Users/jcsansom/Documents/562 final/image_to_prompt/archive/Training/no_tumor\"\n",
    "    for img in os.listdir(folder_dir):\n",
    "        x_train.append(asarray(load_img(os.path.join(folder_dir, img))).tolist())\n",
    "        y_train.append(2)   #2 = no tumor\n",
    "    folder_dir = \"/Users/jcsansom/Documents/562 final/image_to_prompt/archive/Training/pituitary_tumor\"\n",
    "    for img in os.listdir(folder_dir):\n",
    "        x_train.append(asarray(load_img(os.path.join(folder_dir, img))).tolist())\n",
    "        y_train.append(3)   #3 = pituitary_tumor\n",
    "preprocess()\n"
   ]
  },
  {
   "cell_type": "code",
   "execution_count": 2,
   "id": "295984d2",
   "metadata": {},
   "outputs": [
    {
     "name": "stdout",
     "output_type": "stream",
     "text": [
      "Found 2870 images belonging to 4 classes.\n",
      "Found 394 images belonging to 4 classes.\n"
     ]
    }
   ],
   "source": [
    "datagen = ImageDataGenerator(rescale=1.0/255.0)\n",
    "train_it = datagen.flow_from_directory('/Users/jcsansom/Documents/562 final/image_to_prompt/archive/Training/',\n",
    " class_mode='categorical', batch_size=64, target_size=(512, 512))\n",
    "test_it = datagen.flow_from_directory('/Users/jcsansom/Documents/562 final/image_to_prompt/archive/Testing/',\n",
    " class_mode='categorical', batch_size=64, target_size=(512, 512))"
   ]
  },
  {
   "cell_type": "code",
   "execution_count": null,
   "id": "c2165a60",
   "metadata": {},
   "outputs": [],
   "source": [
    "input_shape = (512, 512, 1)\n",
    "num_classes = 4\n",
    "model = keras.Sequential(\n",
    "    [\n",
    "        keras.Input(shape=input_shape),\n",
    "        Conv2D(20, kernel_size=(5, 5), activation=\"relu\", strides=(1, 1), padding='valid'),\n",
    "        MaxPooling2D(pool_size=(2, 2), strides=2),\n",
    "        Conv2D(40, kernel_size=(5, 5), activation=\"relu\", strides=(1, 1), padding='valid'),\n",
    "        MaxPooling2D(pool_size=(2, 2), strides=2),\n",
    "        Flatten(),\n",
    "        Dropout(0.5),\n",
    "        Dense(1000, activation='relu'),\n",
    "        Dropout(0.5),\n",
    "        Dense(1000, activation='relu'),\n",
    "        Dense(num_classes, activation=\"softmax\"),\n",
    "    ]\n",
    ")\n",
    "\n",
    "model.compile(loss=\"categorical_crossentropy\", optimizer=\"adam\", metrics=[\"accuracy\"])\n",
    "\n",
    "model.fit_generator(train_it, steps_per_epoch=len(train_it), validation_data=test_it, validation_steps=len(test_it), epochs=20, verbose=0)\n",
    "model.summary()\n",
    "score = model.evaluate_generator(test_it, verbose=0)\n",
    "print(\"Test loss:\", score[0])\n",
    "print(\"Test accuracy:\", score[1])"
   ]
  },
  {
   "cell_type": "code",
   "execution_count": null,
   "id": "e07ccd05",
   "metadata": {},
   "outputs": [],
   "source": []
  }
 ],
 "metadata": {
  "kernelspec": {
   "display_name": "Python 3",
   "language": "python",
   "name": "python3"
  },
  "language_info": {
   "codemirror_mode": {
    "name": "ipython",
    "version": 3
   },
   "file_extension": ".py",
   "mimetype": "text/x-python",
   "name": "python",
   "nbconvert_exporter": "python",
   "pygments_lexer": "ipython3",
   "version": "3.9.12"
  }
 },
 "nbformat": 4,
 "nbformat_minor": 5
}
