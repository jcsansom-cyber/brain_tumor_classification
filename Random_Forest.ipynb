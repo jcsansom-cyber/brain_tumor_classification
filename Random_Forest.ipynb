{
 "cells": [
  {
   "cell_type": "code",
   "execution_count": 1,
   "id": "e952d9b2",
   "metadata": {},
   "outputs": [],
   "source": [
    "import time\n",
    "import urllib\n",
    "import os.path\n",
    "import sys\n",
    "import os\n",
    "import numpy as np\n",
    "import matplotlib.pylab as plt\n",
    "from os import listdir\n",
    "import numpy as np\n",
    "from PIL import Image\n",
    "from sklearn.ensemble import RandomForestClassifier\n",
    "from sklearn.metrics import confusion_matrix\n",
    "from sklearn.metrics import ConfusionMatrixDisplay\n",
    "import matplotlib.pyplot as plt"
   ]
  },
  {
   "cell_type": "code",
   "execution_count": 2,
   "id": "098af36a",
   "metadata": {},
   "outputs": [],
   "source": [
    "path = os.path.join(os.getcwd(), \"archive_g\\Training\")\n",
    "images = []\n",
    "classifiers = []\n",
    "useGlioma = False #Do you want to use the glioma tumor data? The test set is very flawed for reasons described in the paper.\n",
    "depth = 50\n",
    "if(useGlioma):\n",
    "    depth = 15"
   ]
  },
  {
   "cell_type": "code",
   "execution_count": 3,
   "id": "b31f0528",
   "metadata": {},
   "outputs": [],
   "source": [
    "#Preprocesses glioma tumors\n",
    "gliomaPath = os.path.join(path, 'glioma_tumor')\n",
    "if useGlioma:\n",
    "    files = os.listdir(gliomaPath)\n",
    "    for file in files:\n",
    "        try:\n",
    "            with Image.open(gliomaPath + '\\\\' + file).convert('L') as image:\n",
    "                image = image.resize((200, 200))\n",
    "                images.append(np.asarray(image).flatten())\n",
    "                image = image.rotate(90)\n",
    "                images.append(np.asarray(image).flatten())\n",
    "                image = image.rotate(90)\n",
    "                images.append(np.asarray(image).flatten())\n",
    "                image = image.rotate(90)\n",
    "                images.append(np.asarray(image).flatten())\n",
    "                classifiers.append(3)\n",
    "                classifiers.append(3)\n",
    "                classifiers.append(3)\n",
    "                classifiers.append(3)\n",
    "        except FileNotFoundException:\n",
    "            print(file)\n",
    "            break\n",
    "            \n",
    "#Preprocesses meningioma tumors\n",
    "meningPath = os.path.join(path, 'meningioma_tumor')\n",
    "files = os.listdir(meningPath)\n",
    "for file in files:\n",
    "    try:\n",
    "        with Image.open(meningPath + '\\\\' + file).convert('L') as image:\n",
    "            image = image.resize((200, 200))\n",
    "            images.append(np.asarray(image).flatten())\n",
    "            classifiers.append(2)\n",
    "    except FileNotFoundException:\n",
    "        print(file)\n",
    "        break\n",
    "        \n",
    "#Preprocesses no tumor data\n",
    "noTumorPath = os.path.join(path, 'no_tumor')\n",
    "files = os.listdir(noTumorPath)\n",
    "for file in files:\n",
    "    try:\n",
    "        with Image.open(noTumorPath + '\\\\' + file).convert('L') as image:\n",
    "            image = image.resize((200, 200))\n",
    "            images.append(np.asarray(image).flatten())\n",
    "            classifiers.append(0)\n",
    "    except FileNotFoundException:\n",
    "        print(file)\n",
    "        break\n",
    "        \n",
    "#Preprocesses pituitary tumors\n",
    "pituitaryPath = os.path.join(path, 'pituitary_tumor')\n",
    "files = os.listdir(pituitaryPath)\n",
    "for file in files:\n",
    "    try:\n",
    "        with Image.open(pituitaryPath + '\\\\' + file).convert('L') as image:\n",
    "            image = image.resize((200, 200))\n",
    "            images.append(np.asarray(image).flatten())\n",
    "            image = image.rotate(90)\n",
    "            images.append(np.asarray(image).flatten())\n",
    "            image = image.rotate(90)\n",
    "            images.append(np.asarray(image).flatten())\n",
    "            image = image.rotate(90)\n",
    "            images.append(np.asarray(image).flatten())\n",
    "            classifiers.append(1)\n",
    "            classifiers.append(1)\n",
    "            classifiers.append(1)\n",
    "            classifiers.append(1)\n",
    "    except FileNotFoundException:\n",
    "        print(file)\n",
    "        break"
   ]
  },
  {
   "cell_type": "code",
   "execution_count": 4,
   "id": "25537d8f",
   "metadata": {},
   "outputs": [],
   "source": [
    "rf = RandomForestClassifier(max_depth = depth, random_state = 912983)"
   ]
  },
  {
   "cell_type": "code",
   "execution_count": 5,
   "id": "7227d24b",
   "metadata": {},
   "outputs": [
    {
     "data": {
      "text/plain": [
       "RandomForestClassifier(max_depth=50, random_state=912983)"
      ]
     },
     "execution_count": 5,
     "metadata": {},
     "output_type": "execute_result"
    }
   ],
   "source": [
    "rf.fit(images, classifiers)"
   ]
  },
  {
   "cell_type": "code",
   "execution_count": 6,
   "id": "b261f929",
   "metadata": {},
   "outputs": [],
   "source": [
    "#Preprocesses all testing data.\n",
    "path = os.path.join(os.getcwd(), \"archive_g\\Testing\")\n",
    "testImages = []\n",
    "testClassifiers = []\n",
    "\n",
    "if useGlioma:\n",
    "    gliomaPath = os.path.join(path, 'glioma_tumor')\n",
    "    files = os.listdir(gliomaPath)\n",
    "    for file in files:\n",
    "        try:\n",
    "            with Image.open(gliomaPath + '\\\\' + file).convert('L') as image:\n",
    "                image = image.resize((200,200))\n",
    "                testImages.append(np.asarray(image).flatten())\n",
    "                testClassifiers.append(3)\n",
    "        except FileNotFoundException:\n",
    "            print(file)\n",
    "            break\n",
    "        \n",
    "meningPath = os.path.join(path, 'meningioma_tumor')\n",
    "files = os.listdir(meningPath)\n",
    "for file in files:\n",
    "    try:\n",
    "        with Image.open(meningPath + '\\\\' + file).convert('L') as image:\n",
    "            image = image.resize((200,200))\n",
    "            testImages.append(np.asarray(image).flatten())\n",
    "            testClassifiers.append(2)\n",
    "    except FileNotFoundException:\n",
    "        print(file)\n",
    "        break\n",
    "        \n",
    "noTumorPath = os.path.join(path, 'no_tumor')\n",
    "files = os.listdir(noTumorPath)\n",
    "for file in files:\n",
    "    try:\n",
    "        with Image.open(noTumorPath + '\\\\' + file).convert('L') as image:\n",
    "            image = image.resize((200,200))\n",
    "            testImages.append(np.asarray(image).flatten())\n",
    "            testClassifiers.append(0)\n",
    "    except FileNotFoundException:\n",
    "        print(file)\n",
    "        break\n",
    "        \n",
    "pituitaryPath = os.path.join(path, 'pituitary_tumor')\n",
    "files = os.listdir(pituitaryPath)\n",
    "for file in files:\n",
    "    try:\n",
    "        with Image.open(pituitaryPath + '\\\\' + file).convert('L') as image:\n",
    "            image = image.resize((200,200))\n",
    "            testImages.append(np.asarray(image).flatten())\n",
    "            testClassifiers.append(1)\n",
    "    except FileNotFoundException:\n",
    "        print(file)\n",
    "        break"
   ]
  },
  {
   "cell_type": "code",
   "execution_count": 7,
   "id": "acaba6c2",
   "metadata": {},
   "outputs": [
    {
     "data": {
      "text/plain": [
       "0.9489795918367347"
      ]
     },
     "execution_count": 7,
     "metadata": {},
     "output_type": "execute_result"
    }
   ],
   "source": [
    "rf.score(testImages, testClassifiers) #Outputs accuracy"
   ]
  },
  {
   "cell_type": "code",
   "execution_count": 8,
   "id": "b08b85a0",
   "metadata": {},
   "outputs": [
    {
     "data": {
      "text/plain": [
       "(array([114.,  62., 118.]),\n",
       " array([0.        , 0.66666667, 1.33333333, 2.        ]),\n",
       " <BarContainer object of 3 artists>)"
      ]
     },
     "execution_count": 8,
     "metadata": {},
     "output_type": "execute_result"
    },
    {
     "data": {
      "image/png": "[encoded data removed]",
      "text/plain": [
       "<Figure size 640x480 with 1 Axes>"
      ]
     },
     "metadata": {},
     "output_type": "display_data"
    }
   ],
   "source": [
    "plt.xlabel('Value of encoding of classifier')\n",
    "plt.ylabel('Number of test set classified')\n",
    "plt.title('Classifications of Test Data')\n",
    "bins = 3\n",
    "if useGlioma:\n",
    "    bins = 4\n",
    "plt.hist(rf.predict(testImages), bins = bins, rwidth = 0.8) "
   ]
  },
  {
   "cell_type": "code",
   "execution_count": 9,
   "id": "d6d4e311",
   "metadata": {},
   "outputs": [
    {
     "data": {
      "text/plain": [
       "<sklearn.metrics._plot.confusion_matrix.ConfusionMatrixDisplay at 0x1958105c670>"
      ]
     },
     "execution_count": 9,
     "metadata": {},
     "output_type": "execute_result"
    },
    {
     "data": {
      "image/png": "[encoded data removed]",
      "text/plain": [
       "<Figure size 640x480 with 2 Axes>"
      ]
     },
     "metadata": {},
     "output_type": "display_data"
    }
   ],
   "source": [
    "predictions = rf.predict(testImages)\n",
    "cMatrix = confusion_matrix(y_true = testClassifiers, y_pred = predictions)\n",
    "\n",
    "labels = ['No tumor', 'Pituitary', 'Meningioma']\n",
    "if useGlioma:\n",
    "    labels = ['No tumor', 'Pituitary', 'Meningioma', 'Glioma']\n",
    "\n",
    "disp = ConfusionMatrixDisplay(confusion_matrix = cMatrix, display_labels = labels)\n",
    "disp.plot(cmap=plt.cm.Blues)"
   ]
  },
  {
   "cell_type": "code",
   "execution_count": null,
   "id": "b27a0971",
   "metadata": {},
   "outputs": [],
   "source": []
  }
 ],
 "metadata": {
  "kernelspec": {
   "display_name": "Python 3 (ipykernel)",
   "language": "python",
   "name": "python3"
  },
  "language_info": {
   "codemirror_mode": {
    "name": "ipython",
    "version": 3
   },
   "file_extension": ".py",
   "mimetype": "text/x-python",
   "name": "python",
   "nbconvert_exporter": "python",
   "pygments_lexer": "ipython3",
   "version": "3.9.13"
  }
 },
 "nbformat": 4,
 "nbformat_minor": 5
}
